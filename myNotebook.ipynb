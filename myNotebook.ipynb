{
 "metadata": {
  "language_info": {
   "codemirror_mode": {
    "name": "ipython",
    "version": 3
   },
   "file_extension": ".py",
   "mimetype": "text/x-python",
   "name": "python",
   "nbconvert_exporter": "python",
   "pygments_lexer": "ipython3",
   "version": "3.8.3-final"
  },
  "orig_nbformat": 2,
  "kernelspec": {
   "name": "python3",
   "display_name": "Python 3.8.3 64-bit ('base': conda)",
   "metadata": {
    "interpreter": {
     "hash": "650dab65226b0477136f8cbd6db56568755f143c09128afb6246fbf23f65f249"
    }
   }
  }
 },
 "nbformat": 4,
 "nbformat_minor": 2,
 "cells": [
  {
   "cell_type": "code",
   "execution_count": null,
   "metadata": {},
   "outputs": [],
   "source": []
  },
  {
   "cell_type": "code",
   "execution_count": null,
   "metadata": {},
   "outputs": [],
   "source": []
  },
  {
   "cell_type": "code",
   "execution_count": null,
   "metadata": {},
   "outputs": [],
   "source": []
  },
  {
   "cell_type": "code",
   "execution_count": 19,
   "metadata": {
    "tags": []
   },
   "outputs": [
    {
     "output_type": "stream",
     "name": "stdout",
     "text": [
      "{'AAPL': {'price': 0, 'info': ('Apple Inc.', 'Information Technology')}, 'BAC': {'price': 0, 'info': ('Bank of America Corp', 'Financials')}, 'C': {'price': 0, 'info': ('Citigroup Inc.', 'Financials')}, 'DIS': {'price': 0, 'info': ('The Walt Disney Company', 'Communication Services')}, 'EBAY': {'price': 0, 'info': ('eBay Inc.', 'Consumer Discretionary')}, 'F': {'price': 0, 'info': ('Ford Motor Company', 'Consumer Discretionary')}, 'GOOG': {'price': 0, 'info': ('Alphabet Inc.\\xa0(Class C)', 'Communication Services')}, 'HD': {'price': 0, 'info': ('Home Depot', 'Consumer Discretionary')}, 'INTC': {'price': 0, 'info': ('Intel Corp.', 'Information Technology')}, 'JNJ': {'price': 0, 'info': ('Johnson & Johnson', 'Health Care')}, 'KO': {'price': 0, 'info': ('Coca-Cola Company', 'Consumer Staples')}, 'LOW': {'price': 0, 'info': (\"Lowe's Cos.\", 'Consumer Discretionary')}, 'MMM': {'price': 0, 'info': ('3M Company', 'Industrials')}, 'NKE': {'price': 0, 'info': ('Nike, Inc.', 'Consumer Discretionary')}, 'ORCL': {'price': 0, 'info': ('Oracle Corp.', 'Information Technology')}, 'PG': {'price': 0, 'info': ('Procter & Gamble', 'Consumer Staples')}, 'QCOM': {'price': 0, 'info': ('QUALCOMM Inc.', 'Information Technology')}, 'RL': {'price': 0, 'info': ('Ralph Lauren Corporation', 'Consumer Discretionary')}, 'SBUX': {'price': 0, 'info': ('Starbucks Corp.', 'Consumer Discretionary')}, 'T': {'price': 0, 'info': ('AT&T Inc.', 'Communication Services')}, 'UPS': {'price': 0, 'info': ('United Parcel Service', 'Industrials')}, 'V': {'price': 0, 'info': ('Visa Inc.', 'Information Technology')}, 'WMT': {'price': 0, 'info': ('Walmart', 'Consumer Staples')}, 'XRX': {'price': 0, 'info': ('Xerox', 'Information Technology')}, 'YUM': {'price': 0, 'info': ('Yum! Brands Inc', 'Consumer Discretionary')}, 'ZTS': {'price': 0, 'info': ('Zoetis', 'Health Care')}}\n"
     ]
    }
   ],
   "source": [
    "import sys\n",
    "import csv\n",
    "\n",
    "with open(\"/Users/gman/OneDrive - Bellevue University/CIS245-Programming/Week5/S&P26.csv\") as fh:\n",
    "    rd = csv.DictReader(fh, delimiter=',')\n",
    "    tickerDict = {}\n",
    "    for row in rd:\n",
    "        tempList = []\n",
    "        keys = list(row.keys())\n",
    "        symbolKey = keys[0]\n",
    "        for key in keys[1:3]:\n",
    "            tempList.append(row[key])\n",
    "        tickerDict[row[symbolKey]] = { \"price\": 0, \"info\": tuple(tempList)}\n",
    "    print(tickerDict)"
   ]
  },
  {
   "cell_type": "code",
   "execution_count": null,
   "metadata": {},
   "outputs": [],
   "source": []
  }
 ]
}